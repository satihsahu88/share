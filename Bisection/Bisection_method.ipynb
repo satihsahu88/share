{
 "cells": [
  {
   "cell_type": "code",
   "execution_count": 2,
   "id": "d832aab3-ea2a-4395-946a-366024abcc39",
   "metadata": {},
   "outputs": [],
   "source": [
    "import matplotlib.pyplot as plt\n",
    "import numpy as np\n",
    "import pandas as pd"
   ]
  },
  {
   "cell_type": "code",
   "execution_count": 3,
   "id": "9d930f05-91ba-4d5e-a409-146cd8045b3e",
   "metadata": {},
   "outputs": [
    {
     "name": "stdin",
     "output_type": "stream",
     "text": [
      "1st approximation root : 2\n",
      "2nd approximation root : 3\n",
      "enter the required correct decimal places :  5\n"
     ]
    },
    {
     "name": "stdout",
     "output_type": "stream",
     "text": [
      "required root is  2.70374\n"
     ]
    }
   ],
   "source": [
    "def f(x):\n",
    "    return x**3-4*x-8.95\n",
    "\n",
    "def bisection(a,b,n):\n",
    "    x = 0\n",
    "    i = 1\n",
    "    condition = True\n",
    "    while condition:\n",
    "        g = str(x)\n",
    "        \n",
    "        x =(a+b)/2\n",
    "        if f(x)<0:\n",
    "            a=x\n",
    "        else:\n",
    "            b=x        \n",
    "        op = open(\"Table_output.csv\",'a')\n",
    "        print(i, \",\" ,x, \",\" ,f(x), file = op)\n",
    "        op\n",
    "        \n",
    "            \n",
    "        m = str(x)\n",
    "        if m[0:n+2] == g[0:n+2]:\n",
    "            condition = False\n",
    "        else:\n",
    "            condition = True\n",
    "        i = i+1\n",
    "    x = str(x)\n",
    "    s = x[0:n+2]\n",
    "    print(\"required root is \", s)\n",
    "\n",
    "\n",
    "a = input(\"1st approximation root :\")\n",
    "b = input(\"2nd approximation root :\")\n",
    "n = input('enter the required correct decimal places : ')\n",
    "a = float(a)\n",
    "b = float(b)\n",
    "n = int(n)\n",
    "\n",
    "                  \n",
    "                  \n",
    "if f(a)*f(b)>0:\n",
    "    print(\"Given Approximate root do not bracket the root\")\n",
    "    print(\"Try again with different values\")\n",
    "else:\n",
    "    bisection(a,b,n)\n",
    "    "
   ]
  },
  {
   "cell_type": "code",
   "execution_count": 7,
   "id": "372fd6ad-68a2-44c0-99c8-9e24db8944a2",
   "metadata": {},
   "outputs": [],
   "source": [
    "Tab = pd.read_csv(\"Table_output.csv\", header=None)\n"
   ]
  },
  {
   "cell_type": "code",
   "execution_count": 8,
   "id": "ec764062-6f99-4bc6-ab15-c90e3608bfb8",
   "metadata": {},
   "outputs": [
    {
     "data": {
      "text/html": [
       "<div>\n",
       "<style scoped>\n",
       "    .dataframe tbody tr th:only-of-type {\n",
       "        vertical-align: middle;\n",
       "    }\n",
       "\n",
       "    .dataframe tbody tr th {\n",
       "        vertical-align: top;\n",
       "    }\n",
       "\n",
       "    .dataframe thead th {\n",
       "        text-align: right;\n",
       "    }\n",
       "</style>\n",
       "<table border=\"1\" class=\"dataframe\">\n",
       "  <thead>\n",
       "    <tr style=\"text-align: right;\">\n",
       "      <th></th>\n",
       "      <th>0</th>\n",
       "      <th>1</th>\n",
       "      <th>2</th>\n",
       "    </tr>\n",
       "  </thead>\n",
       "  <tbody>\n",
       "    <tr>\n",
       "      <th>0</th>\n",
       "      <td>1</td>\n",
       "      <td>2.50000</td>\n",
       "      <td>-3.325000</td>\n",
       "    </tr>\n",
       "    <tr>\n",
       "      <th>1</th>\n",
       "      <td>2</td>\n",
       "      <td>2.75000</td>\n",
       "      <td>0.846875</td>\n",
       "    </tr>\n",
       "    <tr>\n",
       "      <th>2</th>\n",
       "      <td>3</td>\n",
       "      <td>2.62500</td>\n",
       "      <td>-1.362109</td>\n",
       "    </tr>\n",
       "    <tr>\n",
       "      <th>3</th>\n",
       "      <td>4</td>\n",
       "      <td>2.68750</td>\n",
       "      <td>-0.289111</td>\n",
       "    </tr>\n",
       "    <tr>\n",
       "      <th>4</th>\n",
       "      <td>5</td>\n",
       "      <td>2.71875</td>\n",
       "      <td>0.270917</td>\n",
       "    </tr>\n",
       "  </tbody>\n",
       "</table>\n",
       "</div>"
      ],
      "text/plain": [
       "   0        1         2\n",
       "0  1  2.50000 -3.325000\n",
       "1  2  2.75000  0.846875\n",
       "2  3  2.62500 -1.362109\n",
       "3  4  2.68750 -0.289111\n",
       "4  5  2.71875  0.270917"
      ]
     },
     "execution_count": 8,
     "metadata": {},
     "output_type": "execute_result"
    }
   ],
   "source": [
    "Tab.head()"
   ]
  },
  {
   "cell_type": "code",
   "execution_count": 9,
   "id": "345d9715-2171-444f-b6c9-575578e1856c",
   "metadata": {},
   "outputs": [
    {
     "data": {
      "text/plain": [
       "0      1\n",
       "1      2\n",
       "2      3\n",
       "3      4\n",
       "4      5\n",
       "5      6\n",
       "6      7\n",
       "7      8\n",
       "8      9\n",
       "9     10\n",
       "10    11\n",
       "11    12\n",
       "12    13\n",
       "13    14\n",
       "14    15\n",
       "15    16\n",
       "16    17\n",
       "17    18\n",
       "18    19\n",
       "19    20\n",
       "20     1\n",
       "21     2\n",
       "22     3\n",
       "23     4\n",
       "24     5\n",
       "25     6\n",
       "26     7\n",
       "27     8\n",
       "28     9\n",
       "29    10\n",
       "30    11\n",
       "31    12\n",
       "32    13\n",
       "33    14\n",
       "34    15\n",
       "35    16\n",
       "36    17\n",
       "37    18\n",
       "38    19\n",
       "39    20\n",
       "Name: 0, dtype: int64"
      ]
     },
     "execution_count": 9,
     "metadata": {},
     "output_type": "execute_result"
    }
   ],
   "source": [
    "u =Tab[0]\n",
    "u"
   ]
  },
  {
   "cell_type": "code",
   "execution_count": 10,
   "id": "1a601c01-496f-47c8-aa65-bdac8379deb7",
   "metadata": {},
   "outputs": [
    {
     "data": {
      "text/plain": [
       "0     2.500000\n",
       "1     2.750000\n",
       "2     2.625000\n",
       "3     2.687500\n",
       "4     2.718750\n",
       "5     2.703125\n",
       "6     2.710938\n",
       "7     2.707031\n",
       "8     2.705078\n",
       "9     2.704102\n",
       "10    2.703613\n",
       "11    2.703857\n",
       "12    2.703735\n",
       "13    2.703796\n",
       "14    2.703766\n",
       "15    2.703751\n",
       "16    2.703743\n",
       "17    2.703739\n",
       "18    2.703741\n",
       "19    2.703742\n",
       "20    2.500000\n",
       "21    2.750000\n",
       "22    2.625000\n",
       "23    2.687500\n",
       "24    2.718750\n",
       "25    2.703125\n",
       "26    2.710938\n",
       "27    2.707031\n",
       "28    2.705078\n",
       "29    2.704102\n",
       "30    2.703613\n",
       "31    2.703857\n",
       "32    2.703735\n",
       "33    2.703796\n",
       "34    2.703766\n",
       "35    2.703751\n",
       "36    2.703743\n",
       "37    2.703739\n",
       "38    2.703741\n",
       "39    2.703742\n",
       "Name: 1, dtype: float64"
      ]
     },
     "execution_count": 10,
     "metadata": {},
     "output_type": "execute_result"
    }
   ],
   "source": [
    "v = Tab[1]\n",
    "v"
   ]
  },
  {
   "cell_type": "code",
   "execution_count": 11,
   "id": "8c6da845-70cc-4e31-afcd-fd9a65a28287",
   "metadata": {},
   "outputs": [
    {
     "data": {
      "text/plain": [
       "0    -3.325000e+00\n",
       "1     8.468750e-01\n",
       "2    -1.362109e+00\n",
       "3    -2.891113e-01\n",
       "4     2.709167e-01\n",
       "5    -1.107712e-02\n",
       "6     1.294234e-01\n",
       "7     5.904924e-02\n",
       "8     2.395510e-02\n",
       "9     6.431256e-03\n",
       "10   -2.324865e-03\n",
       "11    2.052712e-03\n",
       "12   -1.361974e-04\n",
       "13    9.582271e-04\n",
       "14    4.110073e-04\n",
       "15    1.374031e-04\n",
       "16    6.023832e-07\n",
       "17   -6.779761e-05\n",
       "18   -3.359764e-05\n",
       "19   -1.649764e-05\n",
       "20   -3.325000e+00\n",
       "21    8.468750e-01\n",
       "22   -1.362109e+00\n",
       "23   -2.891113e-01\n",
       "24    2.709167e-01\n",
       "25   -1.107712e-02\n",
       "26    1.294234e-01\n",
       "27    5.904924e-02\n",
       "28    2.395510e-02\n",
       "29    6.431256e-03\n",
       "30   -2.324865e-03\n",
       "31    2.052712e-03\n",
       "32   -1.361974e-04\n",
       "33    9.582271e-04\n",
       "34    4.110073e-04\n",
       "35    1.374031e-04\n",
       "36    6.023832e-07\n",
       "37   -6.779761e-05\n",
       "38   -3.359764e-05\n",
       "39   -1.649764e-05\n",
       "Name: 2, dtype: float64"
      ]
     },
     "execution_count": 11,
     "metadata": {},
     "output_type": "execute_result"
    }
   ],
   "source": [
    "w = Tab[2]\n",
    "w"
   ]
  },
  {
   "cell_type": "code",
   "execution_count": 12,
   "id": "fc3ded87-f3e0-4673-9671-ec888cf4910d",
   "metadata": {},
   "outputs": [
    {
     "data": {
      "text/plain": [
       "[<matplotlib.lines.Line2D at 0x115c970f040>]"
      ]
     },
     "execution_count": 12,
     "metadata": {},
     "output_type": "execute_result"
    },
    {
     "data": {
      "image/png": "[encoded data removed]",
      "text/plain": [
       "<Figure size 720x504 with 1 Axes>"
      ]
     },
     "metadata": {
      "needs_background": "light"
     },
     "output_type": "display_data"
    }
   ],
   "source": [
    "from matplotlib import pyplot as plt\n",
    "m = np.linspace(-3,3,100)\n",
    "y = f(m)\n",
    "s = float(v[19:20])\n",
    "ss = float(-1)\n",
    "fig, ax = plt.subplots(figsize=(10,7))\n",
    "ax.plot(m,y)\n",
    "plt.title(\"f(x) vs x axis\")\n",
    "plt.xlabel(\"x axis\")\n",
    "plt.ylabel(\"f(x)\")\n",
    "plt.plot(s,0, marker = 'o', color = 'black')\n",
    "plt.plot(ss,0, marker = 'o', color = 'black')"
   ]
  },
  {
   "cell_type": "code",
   "execution_count": 18,
   "id": "85b51d8a-aac9-4b63-a0bc-052aedcc9f26",
   "metadata": {},
   "outputs": [
    {
     "data": {
      "text/plain": [
       "Text(0, 0.5, 'f(x)')"
      ]
     },
     "execution_count": 18,
     "metadata": {},
     "output_type": "execute_result"
    },
    {
     "data": {
      "image/png": "[encoded data removed]",
      "text/plain": [
       "<Figure size 720x504 with 1 Axes>"
      ]
     },
     "metadata": {
      "needs_background": "light"
     },
     "output_type": "display_data"
    }
   ],
   "source": [
    "from matplotlib import pyplot as plt\n",
    "fig, ax = plt.subplots(figsize=(10,7))\n",
    "ax.plot(u,w)\n",
    "plt.title(\"f(x) vs Iteration\")\n",
    "plt.xlabel(\"Iteration\")\n",
    "plt.ylabel(\"f(x)\")\n"
   ]
  },
  {
   "cell_type": "code",
   "execution_count": 19,
   "id": "76e42d9e-a49b-4968-9824-8d550c26b122",
   "metadata": {},
   "outputs": [
    {
     "data": {
      "text/plain": [
       "Text(0, 0.5, 'f(x)')"
      ]
     },
     "execution_count": 19,
     "metadata": {},
     "output_type": "execute_result"
    },
    {
     "data": {
      "image/png": "[encoded data removed]",
      "text/plain": [
       "<Figure size 720x504 with 1 Axes>"
      ]
     },
     "metadata": {
      "needs_background": "light"
     },
     "output_type": "display_data"
    }
   ],
   "source": [
    "fig, ax = plt.subplots(figsize=(10,7))\n",
    "ax.plot(v,w)\n",
    "plt.title(\"f(x) vs x\")\n",
    "plt.xlabel(\"x\")\n",
    "plt.ylabel(\"f(x)\")"
   ]
  },
  {
   "cell_type": "code",
   "execution_count": 20,
   "id": "cdcc134a-028f-4d8c-9309-ea3a1307715f",
   "metadata": {},
   "outputs": [],
   "source": [
    "#rename Header\n",
    "header_names=['Iteration', 'x', 'f(x)']\n",
    "Tab=pd.read_csv(\"Table_output.csv\", header=None, skiprows=0, names=header_names)"
   ]
  },
  {
   "cell_type": "code",
   "execution_count": null,
   "id": "d1205e40-83e5-46de-91dc-e1dc2919c6cf",
   "metadata": {},
   "outputs": [],
   "source": []
  },
  {
   "cell_type": "code",
   "execution_count": 21,
   "id": "40731822-f57b-4f3e-b2b1-0181f5c7bf1e",
   "metadata": {},
   "outputs": [
    {
     "data": {
      "text/html": [
       "<div>\n",
       "<style scoped>\n",
       "    .dataframe tbody tr th:only-of-type {\n",
       "        vertical-align: middle;\n",
       "    }\n",
       "\n",
       "    .dataframe tbody tr th {\n",
       "        vertical-align: top;\n",
       "    }\n",
       "\n",
       "    .dataframe thead th {\n",
       "        text-align: right;\n",
       "    }\n",
       "</style>\n",
       "<table border=\"1\" class=\"dataframe\">\n",
       "  <thead>\n",
       "    <tr style=\"text-align: right;\">\n",
       "      <th></th>\n",
       "      <th>Iteration</th>\n",
       "      <th>x</th>\n",
       "      <th>f(x)</th>\n",
       "    </tr>\n",
       "  </thead>\n",
       "  <tbody>\n",
       "    <tr>\n",
       "      <th>0</th>\n",
       "      <td>1</td>\n",
       "      <td>2.500000</td>\n",
       "      <td>-3.325000e+00</td>\n",
       "    </tr>\n",
       "    <tr>\n",
       "      <th>1</th>\n",
       "      <td>2</td>\n",
       "      <td>2.750000</td>\n",
       "      <td>8.468750e-01</td>\n",
       "    </tr>\n",
       "    <tr>\n",
       "      <th>2</th>\n",
       "      <td>3</td>\n",
       "      <td>2.625000</td>\n",
       "      <td>-1.362109e+00</td>\n",
       "    </tr>\n",
       "    <tr>\n",
       "      <th>3</th>\n",
       "      <td>4</td>\n",
       "      <td>2.687500</td>\n",
       "      <td>-2.891113e-01</td>\n",
       "    </tr>\n",
       "    <tr>\n",
       "      <th>4</th>\n",
       "      <td>5</td>\n",
       "      <td>2.718750</td>\n",
       "      <td>2.709167e-01</td>\n",
       "    </tr>\n",
       "    <tr>\n",
       "      <th>5</th>\n",
       "      <td>6</td>\n",
       "      <td>2.703125</td>\n",
       "      <td>-1.107712e-02</td>\n",
       "    </tr>\n",
       "    <tr>\n",
       "      <th>6</th>\n",
       "      <td>7</td>\n",
       "      <td>2.710938</td>\n",
       "      <td>1.294234e-01</td>\n",
       "    </tr>\n",
       "    <tr>\n",
       "      <th>7</th>\n",
       "      <td>8</td>\n",
       "      <td>2.707031</td>\n",
       "      <td>5.904924e-02</td>\n",
       "    </tr>\n",
       "    <tr>\n",
       "      <th>8</th>\n",
       "      <td>9</td>\n",
       "      <td>2.705078</td>\n",
       "      <td>2.395510e-02</td>\n",
       "    </tr>\n",
       "    <tr>\n",
       "      <th>9</th>\n",
       "      <td>10</td>\n",
       "      <td>2.704102</td>\n",
       "      <td>6.431256e-03</td>\n",
       "    </tr>\n",
       "    <tr>\n",
       "      <th>10</th>\n",
       "      <td>11</td>\n",
       "      <td>2.703613</td>\n",
       "      <td>-2.324865e-03</td>\n",
       "    </tr>\n",
       "    <tr>\n",
       "      <th>11</th>\n",
       "      <td>12</td>\n",
       "      <td>2.703857</td>\n",
       "      <td>2.052712e-03</td>\n",
       "    </tr>\n",
       "    <tr>\n",
       "      <th>12</th>\n",
       "      <td>13</td>\n",
       "      <td>2.703735</td>\n",
       "      <td>-1.361974e-04</td>\n",
       "    </tr>\n",
       "    <tr>\n",
       "      <th>13</th>\n",
       "      <td>14</td>\n",
       "      <td>2.703796</td>\n",
       "      <td>9.582271e-04</td>\n",
       "    </tr>\n",
       "    <tr>\n",
       "      <th>14</th>\n",
       "      <td>15</td>\n",
       "      <td>2.703766</td>\n",
       "      <td>4.110073e-04</td>\n",
       "    </tr>\n",
       "    <tr>\n",
       "      <th>15</th>\n",
       "      <td>16</td>\n",
       "      <td>2.703751</td>\n",
       "      <td>1.374031e-04</td>\n",
       "    </tr>\n",
       "    <tr>\n",
       "      <th>16</th>\n",
       "      <td>17</td>\n",
       "      <td>2.703743</td>\n",
       "      <td>6.023832e-07</td>\n",
       "    </tr>\n",
       "    <tr>\n",
       "      <th>17</th>\n",
       "      <td>18</td>\n",
       "      <td>2.703739</td>\n",
       "      <td>-6.779761e-05</td>\n",
       "    </tr>\n",
       "    <tr>\n",
       "      <th>18</th>\n",
       "      <td>19</td>\n",
       "      <td>2.703741</td>\n",
       "      <td>-3.359764e-05</td>\n",
       "    </tr>\n",
       "    <tr>\n",
       "      <th>19</th>\n",
       "      <td>20</td>\n",
       "      <td>2.703742</td>\n",
       "      <td>-1.649764e-05</td>\n",
       "    </tr>\n",
       "  </tbody>\n",
       "</table>\n",
       "</div>"
      ],
      "text/plain": [
       "    Iteration         x          f(x)\n",
       "0           1  2.500000 -3.325000e+00\n",
       "1           2  2.750000  8.468750e-01\n",
       "2           3  2.625000 -1.362109e+00\n",
       "3           4  2.687500 -2.891113e-01\n",
       "4           5  2.718750  2.709167e-01\n",
       "5           6  2.703125 -1.107712e-02\n",
       "6           7  2.710938  1.294234e-01\n",
       "7           8  2.707031  5.904924e-02\n",
       "8           9  2.705078  2.395510e-02\n",
       "9          10  2.704102  6.431256e-03\n",
       "10         11  2.703613 -2.324865e-03\n",
       "11         12  2.703857  2.052712e-03\n",
       "12         13  2.703735 -1.361974e-04\n",
       "13         14  2.703796  9.582271e-04\n",
       "14         15  2.703766  4.110073e-04\n",
       "15         16  2.703751  1.374031e-04\n",
       "16         17  2.703743  6.023832e-07\n",
       "17         18  2.703739 -6.779761e-05\n",
       "18         19  2.703741 -3.359764e-05\n",
       "19         20  2.703742 -1.649764e-05"
      ]
     },
     "execution_count": 21,
     "metadata": {},
     "output_type": "execute_result"
    }
   ],
   "source": [
    "Tab.to_csv('Bisection_output_table.csv')\n",
    "Tab"
   ]
  },
  {
   "cell_type": "code",
   "execution_count": null,
   "id": "cbc7a5e3-6375-493b-b661-849a5198cf69",
   "metadata": {},
   "outputs": [],
   "source": []
  }
 ],
 "metadata": {
  "kernelspec": {
   "display_name": "Python 3 (ipykernel)",
   "language": "python",
   "name": "python3"
  },
  "language_info": {
   "codemirror_mode": {
    "name": "ipython",
    "version": 3
   },
   "file_extension": ".py",
   "mimetype": "text/x-python",
   "name": "python",
   "nbconvert_exporter": "python",
   "pygments_lexer": "ipython3",
   "version": "3.10.5"
  }
 },
 "nbformat": 4,
 "nbformat_minor": 5
}
