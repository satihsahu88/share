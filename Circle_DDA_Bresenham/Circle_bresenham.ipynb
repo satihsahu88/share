{
 "cells": [
  {
   "cell_type": "code",
   "execution_count": 51,
   "id": "b42620e4-44e7-478a-a781-b7a5b4893466",
   "metadata": {},
   "outputs": [],
   "source": [
    "import pandas as pd\n",
    "import numpy as np\n",
    "import matplotlib.pyplot as plt"
   ]
  },
  {
   "cell_type": "code",
   "execution_count": 53,
   "id": "d939fd7d-eb8b-4617-b866-e8c7d207b98f",
   "metadata": {},
   "outputs": [
    {
     "name": "stdin",
     "output_type": "stream",
     "text": [
      "Enter Center of X Coordinate 0\n",
      "Enter Center of Y Coordinate 0\n",
      "Enter Radius Value 2\n"
     ]
    }
   ],
   "source": [
    "#######Input Parameter########\n",
    "Xc = int(input(\"Enter Center of X Coordinate\"))\n",
    "Yc = int(input(\"Enter Center of Y Coordinate\"))\n",
    "R  = int(input(\"Enter Radius Value\"))"
   ]
  },
  {
   "cell_type": "code",
   "execution_count": 54,
   "id": "7f63a3f7-9c5c-42ce-a00f-ef88cde0532c",
   "metadata": {},
   "outputs": [],
   "source": [
    "X_Q1 = []\n",
    "Y_Q1 = []\n",
    "D = []"
   ]
  },
  {
   "cell_type": "code",
   "execution_count": 55,
   "id": "a7dba4df-9bdd-49f5-91e4-9ca4c5a56e3f",
   "metadata": {},
   "outputs": [
    {
     "data": {
      "text/plain": [
       "[]"
      ]
     },
     "execution_count": 55,
     "metadata": {},
     "output_type": "execute_result"
    }
   ],
   "source": [
    "X_Q1"
   ]
  },
  {
   "cell_type": "code",
   "execution_count": 56,
   "id": "03d5e490-45dd-45ba-85df-174a9df113fe",
   "metadata": {},
   "outputs": [],
   "source": [
    "X_init = 0\n",
    "Y_init = R"
   ]
  },
  {
   "cell_type": "code",
   "execution_count": 58,
   "id": "0239f717-c779-4479-9fe3-275471917e07",
   "metadata": {},
   "outputs": [
    {
     "data": {
      "text/plain": [
       "2"
      ]
     },
     "execution_count": 58,
     "metadata": {},
     "output_type": "execute_result"
    }
   ],
   "source": [
    "Y_init"
   ]
  },
  {
   "cell_type": "code",
   "execution_count": 60,
   "id": "044fea3e-1a37-4797-9484-fdde8eb2cbcd",
   "metadata": {},
   "outputs": [
    {
     "data": {
      "text/plain": [
       "-1"
      ]
     },
     "execution_count": 60,
     "metadata": {},
     "output_type": "execute_result"
    }
   ],
   "source": [
    "Decision_Parameter =3-2*R\n",
    "Decision_Parameter"
   ]
  },
  {
   "cell_type": "code",
   "execution_count": 41,
   "id": "7d85d0a7-f9d1-459e-99f9-ab8794ab780e",
   "metadata": {},
   "outputs": [],
   "source": [
    "######### 1st Octant #######\n",
    "X = X_init\n",
    "Y = Y_init\n",
    "P = Decision_Parameter\n",
    "\n",
    "while (X < Y):\n",
    "    X_Q1.append(X)\n",
    "    Y_Q1.append(Y)\n",
    "    \n",
    "    if P < 0:\n",
    "        X += 1\n",
    "        P += 4*X + 10\n",
    "    else:\n",
    "        X +=1\n",
    "        Y -=1\n",
    "        P += 4*(X-Y) - 10\n",
    "\n",
    "X_Q1.append(X)\n",
    "Y_Q1.append(Y)"
   ]
  },
  {
   "cell_type": "code",
   "execution_count": 42,
   "id": "347bffc1-8c3b-4ecb-b1e5-f184483fe008",
   "metadata": {},
   "outputs": [],
   "source": [
    "######### 2nd Octant to the 1st Quadrant #######\n",
    "for i in range(len(X_Q1)):\n",
    "    X_Q1.append(Y_Q1[i])\n",
    "    Y_Q1.append(X_Q1[i])"
   ]
  },
  {
   "cell_type": "code",
   "execution_count": 43,
   "id": "c709b599-f17e-4103-bca4-e3a7f7a6ca7a",
   "metadata": {},
   "outputs": [],
   "source": [
    "######### 2nd Quadrant WRT Center Point #######\n",
    "X_Q2 = [(Xc - X) for X in X_Q1]\n",
    "Y_Q2 = [(Yc + Y) for Y in Y_Q1]\n"
   ]
  },
  {
   "cell_type": "code",
   "execution_count": 44,
   "id": "eaf3934a-2236-457f-bad2-2ee445bab02e",
   "metadata": {},
   "outputs": [],
   "source": [
    "######### 3rd Quadrant WRT Center Point #######\n",
    "X_Q3 = [(Xc - X) for X in X_Q1]\n",
    "Y_Q3 = [(Yc - Y) for Y in Y_Q1]\n"
   ]
  },
  {
   "cell_type": "code",
   "execution_count": 45,
   "id": "a9d383d8-5695-4046-a581-8ebd89a94dc7",
   "metadata": {},
   "outputs": [],
   "source": [
    "######### 4th Quadrant WRT Center Point #######\n",
    "X_Q4 = [(Xc + X) for X in X_Q1]\n",
    "Y_Q4 = [(Yc - Y) for Y in Y_Q1]\n"
   ]
  },
  {
   "cell_type": "code",
   "execution_count": 46,
   "id": "3beaa858-4c83-4074-b58d-7fbc08e9a3ed",
   "metadata": {},
   "outputs": [],
   "source": [
    "######### 4th Quadrant WRT Center Point #######\n",
    "X_Q1 = [(Xc + X) for X in X_Q1]\n",
    "Y_Q1 = [(Yc + Y) for Y in Y_Q1]\n"
   ]
  },
  {
   "cell_type": "code",
   "execution_count": 47,
   "id": "dd09763c-124a-4271-ac43-5098c0e6c345",
   "metadata": {},
   "outputs": [],
   "source": [
    "X_Q1 = np.array(X_Q1, dtype = int)\n",
    "Y_Q1 = np.array(Y_Q1, dtype = int)\n",
    "\n",
    "X_Q2 = np.array(X_Q2, dtype = int)\n",
    "Y_Q2 = np.array(Y_Q2, dtype = int)\n",
    "\n",
    "X_Q3 = np.array(X_Q3, dtype = int)\n",
    "Y_Q3 = np.array(Y_Q3, dtype = int)\n",
    "\n",
    "X_Q4 = np.array(X_Q4, dtype = int)\n",
    "Y_Q4 = np.array(Y_Q4, dtype = int)\n"
   ]
  },
  {
   "cell_type": "code",
   "execution_count": 48,
   "id": "4770cfe2-b288-4771-9af5-6e0dab4b7fee",
   "metadata": {},
   "outputs": [
    {
     "name": "stdout",
     "output_type": "stream",
     "text": [
      "[[10 20 10 20 10  0 10  0]\n",
      " [11 20  9 20  9  0 11  0]\n",
      " [12 20  8 20  8  0 12  0]\n",
      " [13 19  7 19  7  1 13  1]\n",
      " [14 19  6 19  6  1 14  1]\n",
      " [15 18  5 18  5  2 15  2]\n",
      " [16 18  4 18  4  2 16  2]\n",
      " [17 17  3 17  3  3 17  3]\n",
      " [20 10  0 10  0 10 20 10]\n",
      " [20 11  0 11  0  9 20  9]\n",
      " [20 12  0 12  0  8 20  8]\n",
      " [19 13  1 13  1  7 19  7]\n",
      " [19 14  1 14  1  6 19  6]\n",
      " [18 15  2 15  2  5 18  5]\n",
      " [18 16  2 16  2  4 18  4]\n",
      " [17 17  3 17  3  3 17  3]]\n"
     ]
    }
   ],
   "source": [
    "print(np.vstack((X_Q1, Y_Q1, X_Q2, Y_Q2, X_Q3, Y_Q3, X_Q4, Y_Q4 )).T)"
   ]
  },
  {
   "cell_type": "code",
   "execution_count": 49,
   "id": "4c28bca1-0b29-4c71-a997-325ec5c795a8",
   "metadata": {},
   "outputs": [
    {
     "data": {
      "text/plain": [
       "<function matplotlib.pyplot.show(close=None, block=None)>"
      ]
     },
     "execution_count": 49,
     "metadata": {},
     "output_type": "execute_result"
    },
    {
     "data": {
      "image/png": "[encoded data removed]",
      "text/plain": [
       "<Figure size 432x288 with 1 Axes>"
      ]
     },
     "metadata": {
      "needs_background": "light"
     },
     "output_type": "display_data"
    }
   ],
   "source": [
    "Circle_Figure = plt.figure()\n",
    "ax = Circle_Figure.add_subplot(111)\n",
    "plt.plot(X_Q1, Y_Q1, X_Q2, Y_Q2, X_Q3, Y_Q3, X_Q4, Y_Q4)\n",
    "\n",
    "ax.set_aspect('equal', adjustable = 'box')\n",
    "plt.title(\"Bresenham Circle Drawing Algo\")\n",
    "plt.xlabel(\"X-Axis\")\n",
    "plt.xlabel(\"Y-Axis\")\n",
    "plt.show"
   ]
  },
  {
   "cell_type": "code",
   "execution_count": 50,
   "id": "ebab762a-c815-4efe-863f-2a4f0aae1508",
   "metadata": {},
   "outputs": [
    {
     "data": {
      "text/plain": [
       "array([10, 11, 12, 13, 14, 15, 16, 17, 20, 20, 20, 19, 19, 18, 18, 17])"
      ]
     },
     "execution_count": 50,
     "metadata": {},
     "output_type": "execute_result"
    }
   ],
   "source": [
    "X_Q1"
   ]
  },
  {
   "cell_type": "code",
   "execution_count": null,
   "id": "cd00169e-45db-487e-9c81-82634eb9bed4",
   "metadata": {},
   "outputs": [],
   "source": []
  }
 ],
 "metadata": {
  "kernelspec": {
   "display_name": "Python 3 (ipykernel)",
   "language": "python",
   "name": "python3"
  },
  "language_info": {
   "codemirror_mode": {
    "name": "ipython",
    "version": 3
   },
   "file_extension": ".py",
   "mimetype": "text/x-python",
   "name": "python",
   "nbconvert_exporter": "python",
   "pygments_lexer": "ipython3",
   "version": "3.10.5"
  }
 },
 "nbformat": 4,
 "nbformat_minor": 5
}
