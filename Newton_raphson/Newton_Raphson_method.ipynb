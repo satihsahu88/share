{
 "cells": [
  {
   "cell_type": "code",
   "execution_count": 1,
   "id": "d832aab3-ea2a-4395-946a-366024abcc39",
   "metadata": {},
   "outputs": [],
   "source": [
    "import matplotlib.pyplot as plt\n",
    "import numpy as np\n",
    "import pandas as pd\n",
    "import numpy as np"
   ]
  },
  {
   "cell_type": "code",
   "execution_count": 2,
   "id": "9d930f05-91ba-4d5e-a409-146cd8045b3e",
   "metadata": {},
   "outputs": [
    {
     "name": "stdin",
     "output_type": "stream",
     "text": [
      "enter the value of x :  2\n",
      "enter the required correct decimal places :  6\n"
     ]
    },
    {
     "name": "stdout",
     "output_type": "stream",
     "text": [
      "required root is  2.703742\n"
     ]
    }
   ],
   "source": [
    "from sympy import *\n",
    "x = Symbol('x')\n",
    "f = x**3-4*x-8.95\n",
    "f_prime = f.diff(x)\n",
    "f = lambdify(x,f)\n",
    "f_prime = lambdify(x,f_prime)\n",
    "\n",
    "\n",
    "x = input('enter the value of x : ')\n",
    "n = input('enter the required correct decimal places : ')\n",
    "x = float(x)\n",
    "n = int(n)\n",
    "\n",
    "i = 1\n",
    "condition = True\n",
    "while condition:\n",
    "    \n",
    "    g = str(x)\n",
    "    x_n = x - (f(x)/f_prime(x))\n",
    "    op = open(\"Table_output.csv\",'a')\n",
    "    print(i, \",\" ,x_n, \",\" ,f(x), \",\" ,f_prime(x), file = op)\n",
    "    \n",
    "    m = str(x_n)\n",
    "    if m[0:n+2] == g[0:n+2]:\n",
    "        condition = False\n",
    "    else:\n",
    "        condition = True\n",
    "        x = x_n\n",
    "        i = i+1\n",
    "x = str(x)\n",
    "s = x[0:n+2]\n",
    "print(\"required root is \", s)\n",
    "\n",
    "    \n",
    "    \n",
    "    "
   ]
  },
  {
   "cell_type": "code",
   "execution_count": 3,
   "id": "372fd6ad-68a2-44c0-99c8-9e24db8944a2",
   "metadata": {},
   "outputs": [],
   "source": [
    "Tab = pd.read_csv(\"Table_output.csv\", header=None)\n"
   ]
  },
  {
   "cell_type": "code",
   "execution_count": 7,
   "id": "ec764062-6f99-4bc6-ab15-c90e3608bfb8",
   "metadata": {},
   "outputs": [
    {
     "data": {
      "text/html": [
       "<div>\n",
       "<style scoped>\n",
       "    .dataframe tbody tr th:only-of-type {\n",
       "        vertical-align: middle;\n",
       "    }\n",
       "\n",
       "    .dataframe tbody tr th {\n",
       "        vertical-align: top;\n",
       "    }\n",
       "\n",
       "    .dataframe thead th {\n",
       "        text-align: right;\n",
       "    }\n",
       "</style>\n",
       "<table border=\"1\" class=\"dataframe\">\n",
       "  <thead>\n",
       "    <tr style=\"text-align: right;\">\n",
       "      <th></th>\n",
       "      <th>0</th>\n",
       "      <th>1</th>\n",
       "      <th>2</th>\n",
       "      <th>3</th>\n",
       "    </tr>\n",
       "  </thead>\n",
       "  <tbody>\n",
       "    <tr>\n",
       "      <th>0</th>\n",
       "      <td>1</td>\n",
       "      <td>3.118750</td>\n",
       "      <td>-8.950000</td>\n",
       "      <td>8.000000</td>\n",
       "    </tr>\n",
       "    <tr>\n",
       "      <th>1</th>\n",
       "      <td>2</td>\n",
       "      <td>2.764901</td>\n",
       "      <td>8.909839</td>\n",
       "      <td>25.179805</td>\n",
       "    </tr>\n",
       "    <tr>\n",
       "      <th>2</th>\n",
       "      <td>3</td>\n",
       "      <td>2.705369</td>\n",
       "      <td>1.127180</td>\n",
       "      <td>18.934039</td>\n",
       "    </tr>\n",
       "    <tr>\n",
       "      <th>3</th>\n",
       "      <td>4</td>\n",
       "      <td>2.703744</td>\n",
       "      <td>0.029186</td>\n",
       "      <td>17.957072</td>\n",
       "    </tr>\n",
       "    <tr>\n",
       "      <th>4</th>\n",
       "      <td>5</td>\n",
       "      <td>2.703743</td>\n",
       "      <td>0.000021</td>\n",
       "      <td>17.930697</td>\n",
       "    </tr>\n",
       "  </tbody>\n",
       "</table>\n",
       "</div>"
      ],
      "text/plain": [
       "   0         1         2          3\n",
       "0  1  3.118750 -8.950000   8.000000\n",
       "1  2  2.764901  8.909839  25.179805\n",
       "2  3  2.705369  1.127180  18.934039\n",
       "3  4  2.703744  0.029186  17.957072\n",
       "4  5  2.703743  0.000021  17.930697"
      ]
     },
     "execution_count": 7,
     "metadata": {},
     "output_type": "execute_result"
    }
   ],
   "source": [
    "Tab"
   ]
  },
  {
   "cell_type": "code",
   "execution_count": 8,
   "id": "345d9715-2171-444f-b6c9-575578e1856c",
   "metadata": {},
   "outputs": [
    {
     "data": {
      "text/plain": [
       "0    1\n",
       "1    2\n",
       "2    3\n",
       "3    4\n",
       "4    5\n",
       "Name: 0, dtype: int64"
      ]
     },
     "execution_count": 8,
     "metadata": {},
     "output_type": "execute_result"
    }
   ],
   "source": [
    "u =Tab[0]\n",
    "u"
   ]
  },
  {
   "cell_type": "code",
   "execution_count": 9,
   "id": "1a601c01-496f-47c8-aa65-bdac8379deb7",
   "metadata": {},
   "outputs": [
    {
     "data": {
      "text/plain": [
       "0    3.118750\n",
       "1    2.764901\n",
       "2    2.705369\n",
       "3    2.703744\n",
       "4    2.703743\n",
       "Name: 1, dtype: float64"
      ]
     },
     "execution_count": 9,
     "metadata": {},
     "output_type": "execute_result"
    }
   ],
   "source": [
    "v = Tab[1]\n",
    "v"
   ]
  },
  {
   "cell_type": "code",
   "execution_count": 10,
   "id": "8c6da845-70cc-4e31-afcd-fd9a65a28287",
   "metadata": {},
   "outputs": [
    {
     "data": {
      "text/plain": [
       "0   -8.950000\n",
       "1    8.909839\n",
       "2    1.127180\n",
       "3    0.029186\n",
       "4    0.000021\n",
       "Name: 2, dtype: float64"
      ]
     },
     "execution_count": 10,
     "metadata": {},
     "output_type": "execute_result"
    }
   ],
   "source": [
    "w = Tab[2]\n",
    "w"
   ]
  },
  {
   "cell_type": "code",
   "execution_count": 11,
   "id": "376456f3-ca42-42e3-8e99-9ecc7cc03a10",
   "metadata": {},
   "outputs": [
    {
     "data": {
      "text/plain": [
       "[<matplotlib.lines.Line2D at 0x1cb267e0430>]"
      ]
     },
     "execution_count": 11,
     "metadata": {},
     "output_type": "execute_result"
    },
    {
     "data": {
      "image/png": "[encoded data removed]",
      "text/plain": [
       "<Figure size 720x504 with 1 Axes>"
      ]
     },
     "metadata": {
      "needs_background": "light"
     },
     "output_type": "display_data"
    }
   ],
   "source": [
    "from matplotlib import pyplot as plt\n",
    "m = np.linspace(-3,3,100)\n",
    "y = f(m)\n",
    "s = float(v[3:4])\n",
    "fig, ax = plt.subplots(figsize=(10,7))\n",
    "ax.plot(m,y)\n",
    "plt.title(\"f(x) vs x axis\")\n",
    "plt.xlabel(\"x axis\")\n",
    "plt.ylabel(\"f(x)\")\n",
    "plt.plot(s,0, marker = 'o', color = 'black')"
   ]
  },
  {
   "cell_type": "code",
   "execution_count": 12,
   "id": "85b51d8a-aac9-4b63-a0bc-052aedcc9f26",
   "metadata": {},
   "outputs": [
    {
     "data": {
      "text/plain": [
       "Text(0, 0.5, 'f(x)')"
      ]
     },
     "execution_count": 12,
     "metadata": {},
     "output_type": "execute_result"
    },
    {
     "data": {
      "image/png": "[encoded data removed]",
      "text/plain": [
       "<Figure size 720x504 with 1 Axes>"
      ]
     },
     "metadata": {
      "needs_background": "light"
     },
     "output_type": "display_data"
    }
   ],
   "source": [
    "from matplotlib import pyplot as plt\n",
    "fig, ax = plt.subplots(figsize=(10,7))\n",
    "ax.plot(u,w)\n",
    "plt.title(\"f(x) vs Iteration\")\n",
    "plt.xlabel(\"Iteration\")\n",
    "plt.ylabel(\"f(x)\")\n"
   ]
  },
  {
   "cell_type": "code",
   "execution_count": 11,
   "id": "76e42d9e-a49b-4968-9824-8d550c26b122",
   "metadata": {},
   "outputs": [
    {
     "data": {
      "text/plain": [
       "Text(0, 0.5, 'f(x)')"
      ]
     },
     "execution_count": 11,
     "metadata": {},
     "output_type": "execute_result"
    },
    {
     "data": {
      "image/png": "[encoded data removed]",
      "text/plain": [
       "<Figure size 720x504 with 1 Axes>"
      ]
     },
     "metadata": {
      "needs_background": "light"
     },
     "output_type": "display_data"
    }
   ],
   "source": [
    "fig, ax = plt.subplots(figsize=(10,7))\n",
    "ax.plot(v,w)\n",
    "plt.title(\"f(x) vs x\")\n",
    "plt.xlabel(\"x\")\n",
    "plt.ylabel(\"f(x)\")"
   ]
  },
  {
   "cell_type": "code",
   "execution_count": 13,
   "id": "cdcc134a-028f-4d8c-9309-ea3a1307715f",
   "metadata": {},
   "outputs": [],
   "source": [
    "#rename Header\n",
    "header_names=['Iteration', 'x', 'f(x)', 'f_prime(x)']\n",
    "Tab=pd.read_csv(\"Table_output.csv\", header=None, skiprows=0, names=header_names)"
   ]
  },
  {
   "cell_type": "code",
   "execution_count": 14,
   "id": "40731822-f57b-4f3e-b2b1-0181f5c7bf1e",
   "metadata": {},
   "outputs": [
    {
     "data": {
      "text/html": [
       "<div>\n",
       "<style scoped>\n",
       "    .dataframe tbody tr th:only-of-type {\n",
       "        vertical-align: middle;\n",
       "    }\n",
       "\n",
       "    .dataframe tbody tr th {\n",
       "        vertical-align: top;\n",
       "    }\n",
       "\n",
       "    .dataframe thead th {\n",
       "        text-align: right;\n",
       "    }\n",
       "</style>\n",
       "<table border=\"1\" class=\"dataframe\">\n",
       "  <thead>\n",
       "    <tr style=\"text-align: right;\">\n",
       "      <th></th>\n",
       "      <th>Iteration</th>\n",
       "      <th>x</th>\n",
       "      <th>f(x)</th>\n",
       "      <th>f_prime(x)</th>\n",
       "    </tr>\n",
       "  </thead>\n",
       "  <tbody>\n",
       "    <tr>\n",
       "      <th>0</th>\n",
       "      <td>1</td>\n",
       "      <td>3.118750</td>\n",
       "      <td>-8.950000</td>\n",
       "      <td>8.000000</td>\n",
       "    </tr>\n",
       "    <tr>\n",
       "      <th>1</th>\n",
       "      <td>2</td>\n",
       "      <td>2.764901</td>\n",
       "      <td>8.909839</td>\n",
       "      <td>25.179805</td>\n",
       "    </tr>\n",
       "    <tr>\n",
       "      <th>2</th>\n",
       "      <td>3</td>\n",
       "      <td>2.705369</td>\n",
       "      <td>1.127180</td>\n",
       "      <td>18.934039</td>\n",
       "    </tr>\n",
       "    <tr>\n",
       "      <th>3</th>\n",
       "      <td>4</td>\n",
       "      <td>2.703744</td>\n",
       "      <td>0.029186</td>\n",
       "      <td>17.957072</td>\n",
       "    </tr>\n",
       "    <tr>\n",
       "      <th>4</th>\n",
       "      <td>5</td>\n",
       "      <td>2.703743</td>\n",
       "      <td>0.000021</td>\n",
       "      <td>17.930697</td>\n",
       "    </tr>\n",
       "  </tbody>\n",
       "</table>\n",
       "</div>"
      ],
      "text/plain": [
       "   Iteration         x      f(x)  f_prime(x)\n",
       "0          1  3.118750 -8.950000    8.000000\n",
       "1          2  2.764901  8.909839   25.179805\n",
       "2          3  2.705369  1.127180   18.934039\n",
       "3          4  2.703744  0.029186   17.957072\n",
       "4          5  2.703743  0.000021   17.930697"
      ]
     },
     "execution_count": 14,
     "metadata": {},
     "output_type": "execute_result"
    }
   ],
   "source": [
    "Tab.to_csv('Newton_Raphson_output_table.csv')\n",
    "Tab"
   ]
  },
  {
   "cell_type": "code",
   "execution_count": null,
   "id": "722f256e-d267-4f3c-8e8e-6b48df7ecbfd",
   "metadata": {},
   "outputs": [],
   "source": []
  }
 ],
 "metadata": {
  "kernelspec": {
   "display_name": "Python 3 (ipykernel)",
   "language": "python",
   "name": "python3"
  },
  "language_info": {
   "codemirror_mode": {
    "name": "ipython",
    "version": 3
   },
   "file_extension": ".py",
   "mimetype": "text/x-python",
   "name": "python",
   "nbconvert_exporter": "python",
   "pygments_lexer": "ipython3",
   "version": "3.10.5"
  }
 },
 "nbformat": 4,
 "nbformat_minor": 5
}
