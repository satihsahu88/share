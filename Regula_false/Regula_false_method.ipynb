{
 "cells": [
  {
   "cell_type": "code",
   "execution_count": 1,
   "id": "d832aab3-ea2a-4395-946a-366024abcc39",
   "metadata": {},
   "outputs": [],
   "source": [
    "import matplotlib.pyplot as plt\n",
    "import numpy as np\n",
    "import pandas as pd\n",
    "import numpy as np"
   ]
  },
  {
   "cell_type": "code",
   "execution_count": 2,
   "id": "9d930f05-91ba-4d5e-a409-146cd8045b3e",
   "metadata": {},
   "outputs": [
    {
     "name": "stdin",
     "output_type": "stream",
     "text": [
      "1st approximation root : 2\n",
      "2nd approximation root : 3\n",
      "Correct number of decimal places : 5\n"
     ]
    },
    {
     "name": "stdout",
     "output_type": "stream",
     "text": [
      "Required root id :  2.70374\n"
     ]
    }
   ],
   "source": [
    "def f(x):\n",
    "    return x**3-4*x-8.95\n",
    "\n",
    "def regula(a,b):\n",
    "    x = 0\n",
    "    i = 1\n",
    "    condition = True\n",
    "    while condition:\n",
    "        g = str(x)\n",
    "        x =a-((b-a)*f(a)/(f(b)-f(a)))\n",
    "        if f(x)<0:\n",
    "            a=x\n",
    "        else:\n",
    "            b=x        \n",
    "        op = open(\"Table_output.csv\",'a')\n",
    "        print(i, \",\" ,x, \",\" ,f(x), file = op)\n",
    "        \n",
    "        m = str(x)\n",
    "        if m[0:n+2]==g[0:n+2]:\n",
    "            condition = False\n",
    "        else:\n",
    "            condition = True\n",
    "            i = i+1\n",
    "    x = str(x)       \n",
    "    s = x[0:n+2]\n",
    "    print(\"Required root id : \", s)\n",
    "    s\n",
    "\n",
    "a = input(\"1st approximation root :\")\n",
    "b = input(\"2nd approximation root :\")\n",
    "n = input(\"Correct number of decimal places :\")\n",
    "a = float(a)\n",
    "b = float(b)\n",
    "n = int(n)\n",
    "\n",
    "                  \n",
    "                  \n",
    "if f(a)*f(b)>0:\n",
    "    print(\"Given Approximate root do not bracket the root\")\n",
    "    print(\"Try again with different values\")\n",
    "else:\n",
    "    regula(a,b)\n",
    "    "
   ]
  },
  {
   "cell_type": "code",
   "execution_count": 8,
   "id": "372fd6ad-68a2-44c0-99c8-9e24db8944a2",
   "metadata": {},
   "outputs": [],
   "source": [
    "Tab = pd.read_csv(\"Table_output.csv\", header=None)\n"
   ]
  },
  {
   "cell_type": "code",
   "execution_count": 9,
   "id": "ec764062-6f99-4bc6-ab15-c90e3608bfb8",
   "metadata": {},
   "outputs": [
    {
     "data": {
      "text/html": [
       "<div>\n",
       "<style scoped>\n",
       "    .dataframe tbody tr th:only-of-type {\n",
       "        vertical-align: middle;\n",
       "    }\n",
       "\n",
       "    .dataframe tbody tr th {\n",
       "        vertical-align: top;\n",
       "    }\n",
       "\n",
       "    .dataframe thead th {\n",
       "        text-align: right;\n",
       "    }\n",
       "</style>\n",
       "<table border=\"1\" class=\"dataframe\">\n",
       "  <thead>\n",
       "    <tr style=\"text-align: right;\">\n",
       "      <th></th>\n",
       "      <th>0</th>\n",
       "      <th>1</th>\n",
       "      <th>2</th>\n",
       "    </tr>\n",
       "  </thead>\n",
       "  <tbody>\n",
       "    <tr>\n",
       "      <th>0</th>\n",
       "      <td>1</td>\n",
       "      <td>2.596667</td>\n",
       "      <td>-1.828180</td>\n",
       "    </tr>\n",
       "    <tr>\n",
       "      <th>1</th>\n",
       "      <td>2</td>\n",
       "      <td>2.690263</td>\n",
       "      <td>-0.240239</td>\n",
       "    </tr>\n",
       "    <tr>\n",
       "      <th>2</th>\n",
       "      <td>3</td>\n",
       "      <td>2.702092</td>\n",
       "      <td>-0.029576</td>\n",
       "    </tr>\n",
       "    <tr>\n",
       "      <th>3</th>\n",
       "      <td>4</td>\n",
       "      <td>2.703542</td>\n",
       "      <td>-0.003611</td>\n",
       "    </tr>\n",
       "    <tr>\n",
       "      <th>4</th>\n",
       "      <td>5</td>\n",
       "      <td>2.703718</td>\n",
       "      <td>-0.000441</td>\n",
       "    </tr>\n",
       "  </tbody>\n",
       "</table>\n",
       "</div>"
      ],
      "text/plain": [
       "   0         1         2\n",
       "0  1  2.596667 -1.828180\n",
       "1  2  2.690263 -0.240239\n",
       "2  3  2.702092 -0.029576\n",
       "3  4  2.703542 -0.003611\n",
       "4  5  2.703718 -0.000441"
      ]
     },
     "execution_count": 9,
     "metadata": {},
     "output_type": "execute_result"
    }
   ],
   "source": [
    "Tab.head()"
   ]
  },
  {
   "cell_type": "code",
   "execution_count": 10,
   "id": "345d9715-2171-444f-b6c9-575578e1856c",
   "metadata": {},
   "outputs": [
    {
     "data": {
      "text/plain": [
       "0     1\n",
       "1     2\n",
       "2     3\n",
       "3     4\n",
       "4     5\n",
       "5     6\n",
       "6     7\n",
       "7     8\n",
       "8     1\n",
       "9     2\n",
       "10    3\n",
       "11    4\n",
       "12    5\n",
       "13    6\n",
       "14    7\n",
       "15    8\n",
       "Name: 0, dtype: int64"
      ]
     },
     "execution_count": 10,
     "metadata": {},
     "output_type": "execute_result"
    }
   ],
   "source": [
    "u = Tab[0]\n",
    "u"
   ]
  },
  {
   "cell_type": "code",
   "execution_count": 11,
   "id": "1a601c01-496f-47c8-aa65-bdac8379deb7",
   "metadata": {},
   "outputs": [
    {
     "data": {
      "text/plain": [
       "0     2.596667\n",
       "1     2.690263\n",
       "2     2.702092\n",
       "3     2.703542\n",
       "4     2.703718\n",
       "5     2.703740\n",
       "6     2.703743\n",
       "7     2.703743\n",
       "8     2.596667\n",
       "9     2.690263\n",
       "10    2.702092\n",
       "11    2.703542\n",
       "12    2.703718\n",
       "13    2.703740\n",
       "14    2.703743\n",
       "15    2.703743\n",
       "Name: 1, dtype: float64"
      ]
     },
     "execution_count": 11,
     "metadata": {},
     "output_type": "execute_result"
    }
   ],
   "source": [
    "v = Tab[1]\n",
    "v"
   ]
  },
  {
   "cell_type": "code",
   "execution_count": 12,
   "id": "8c6da845-70cc-4e31-afcd-fd9a65a28287",
   "metadata": {},
   "outputs": [
    {
     "data": {
      "text/plain": [
       "0    -1.828180e+00\n",
       "1    -2.402395e-01\n",
       "2    -2.957580e-02\n",
       "3    -3.611431e-03\n",
       "4    -4.405425e-04\n",
       "5    -5.373328e-05\n",
       "6    -6.553788e-06\n",
       "7    -7.993568e-07\n",
       "8    -1.828180e+00\n",
       "9    -2.402395e-01\n",
       "10   -2.957580e-02\n",
       "11   -3.611431e-03\n",
       "12   -4.405425e-04\n",
       "13   -5.373328e-05\n",
       "14   -6.553788e-06\n",
       "15   -7.993568e-07\n",
       "Name: 2, dtype: float64"
      ]
     },
     "execution_count": 12,
     "metadata": {},
     "output_type": "execute_result"
    }
   ],
   "source": [
    "w = Tab[2]\n",
    "w"
   ]
  },
  {
   "cell_type": "code",
   "execution_count": 13,
   "id": "376456f3-ca42-42e3-8e99-9ecc7cc03a10",
   "metadata": {},
   "outputs": [
    {
     "data": {
      "text/plain": [
       "[<matplotlib.lines.Line2D at 0x229e1dd6b90>]"
      ]
     },
     "execution_count": 13,
     "metadata": {},
     "output_type": "execute_result"
    },
    {
     "data": {
      "image/png": "[encoded data removed]",
      "text/plain": [
       "<Figure size 720x504 with 1 Axes>"
      ]
     },
     "metadata": {
      "needs_background": "light"
     },
     "output_type": "display_data"
    }
   ],
   "source": [
    "from matplotlib import pyplot as plt\n",
    "m = np.linspace(-3,3,100)\n",
    "y = f(m)\n",
    "s = float(v[7:8])\n",
    "fig, ax = plt.subplots(figsize=(10,7))\n",
    "ax.plot(m,y)\n",
    "plt.title(\"f(x) vs x axis\")\n",
    "plt.xlabel(\"x axis\")\n",
    "plt.ylabel(\"f(x)\")\n",
    "plt.plot(s,0, marker = 'o', color = 'black')"
   ]
  },
  {
   "cell_type": "code",
   "execution_count": 14,
   "id": "85b51d8a-aac9-4b63-a0bc-052aedcc9f26",
   "metadata": {},
   "outputs": [
    {
     "data": {
      "text/plain": [
       "Text(0, 0.5, 'f(x)')"
      ]
     },
     "execution_count": 14,
     "metadata": {},
     "output_type": "execute_result"
    },
    {
     "data": {
      "image/png": "[encoded data removed]",
      "text/plain": [
       "<Figure size 720x504 with 1 Axes>"
      ]
     },
     "metadata": {
      "needs_background": "light"
     },
     "output_type": "display_data"
    }
   ],
   "source": [
    "from matplotlib import pyplot as plt\n",
    "fig, ax = plt.subplots(figsize=(10,7))\n",
    "ax.plot(u,w)\n",
    "plt.title(\"f(x) vs Iteration\")\n",
    "plt.xlabel(\"Iteration\")\n",
    "plt.ylabel(\"f(x)\")\n"
   ]
  },
  {
   "cell_type": "code",
   "execution_count": 15,
   "id": "76e42d9e-a49b-4968-9824-8d550c26b122",
   "metadata": {},
   "outputs": [
    {
     "data": {
      "text/plain": [
       "Text(0, 0.5, 'f(x)')"
      ]
     },
     "execution_count": 15,
     "metadata": {},
     "output_type": "execute_result"
    },
    {
     "data": {
      "image/png": "[encoded data removed]",
      "text/plain": [
       "<Figure size 720x504 with 1 Axes>"
      ]
     },
     "metadata": {
      "needs_background": "light"
     },
     "output_type": "display_data"
    }
   ],
   "source": [
    "fig, ax = plt.subplots(figsize=(10,7))\n",
    "ax.plot(v,w)\n",
    "plt.title(\"f(x) vs x\")\n",
    "plt.xlabel(\"x\")\n",
    "plt.ylabel(\"f(x)\")"
   ]
  },
  {
   "cell_type": "code",
   "execution_count": 16,
   "id": "cdcc134a-028f-4d8c-9309-ea3a1307715f",
   "metadata": {},
   "outputs": [],
   "source": [
    "#rename Header\n",
    "header_names=['Iteration', 'x', 'f(x)']\n",
    "Tab=pd.read_csv(\"Table_output.csv\", header=None, skiprows=0, names=header_names)"
   ]
  },
  {
   "cell_type": "code",
   "execution_count": null,
   "id": "d1205e40-83e5-46de-91dc-e1dc2919c6cf",
   "metadata": {},
   "outputs": [],
   "source": []
  },
  {
   "cell_type": "code",
   "execution_count": 17,
   "id": "40731822-f57b-4f3e-b2b1-0181f5c7bf1e",
   "metadata": {},
   "outputs": [
    {
     "data": {
      "text/html": [
       "<div>\n",
       "<style scoped>\n",
       "    .dataframe tbody tr th:only-of-type {\n",
       "        vertical-align: middle;\n",
       "    }\n",
       "\n",
       "    .dataframe tbody tr th {\n",
       "        vertical-align: top;\n",
       "    }\n",
       "\n",
       "    .dataframe thead th {\n",
       "        text-align: right;\n",
       "    }\n",
       "</style>\n",
       "<table border=\"1\" class=\"dataframe\">\n",
       "  <thead>\n",
       "    <tr style=\"text-align: right;\">\n",
       "      <th></th>\n",
       "      <th>Iteration</th>\n",
       "      <th>x</th>\n",
       "      <th>f(x)</th>\n",
       "    </tr>\n",
       "  </thead>\n",
       "  <tbody>\n",
       "    <tr>\n",
       "      <th>0</th>\n",
       "      <td>1</td>\n",
       "      <td>2.596667</td>\n",
       "      <td>-1.828180e+00</td>\n",
       "    </tr>\n",
       "    <tr>\n",
       "      <th>1</th>\n",
       "      <td>2</td>\n",
       "      <td>2.690263</td>\n",
       "      <td>-2.402395e-01</td>\n",
       "    </tr>\n",
       "    <tr>\n",
       "      <th>2</th>\n",
       "      <td>3</td>\n",
       "      <td>2.702092</td>\n",
       "      <td>-2.957580e-02</td>\n",
       "    </tr>\n",
       "    <tr>\n",
       "      <th>3</th>\n",
       "      <td>4</td>\n",
       "      <td>2.703542</td>\n",
       "      <td>-3.611431e-03</td>\n",
       "    </tr>\n",
       "    <tr>\n",
       "      <th>4</th>\n",
       "      <td>5</td>\n",
       "      <td>2.703718</td>\n",
       "      <td>-4.405425e-04</td>\n",
       "    </tr>\n",
       "    <tr>\n",
       "      <th>5</th>\n",
       "      <td>6</td>\n",
       "      <td>2.703740</td>\n",
       "      <td>-5.373328e-05</td>\n",
       "    </tr>\n",
       "    <tr>\n",
       "      <th>6</th>\n",
       "      <td>7</td>\n",
       "      <td>2.703743</td>\n",
       "      <td>-6.553788e-06</td>\n",
       "    </tr>\n",
       "    <tr>\n",
       "      <th>7</th>\n",
       "      <td>8</td>\n",
       "      <td>2.703743</td>\n",
       "      <td>-7.993568e-07</td>\n",
       "    </tr>\n",
       "    <tr>\n",
       "      <th>8</th>\n",
       "      <td>1</td>\n",
       "      <td>2.596667</td>\n",
       "      <td>-1.828180e+00</td>\n",
       "    </tr>\n",
       "    <tr>\n",
       "      <th>9</th>\n",
       "      <td>2</td>\n",
       "      <td>2.690263</td>\n",
       "      <td>-2.402395e-01</td>\n",
       "    </tr>\n",
       "    <tr>\n",
       "      <th>10</th>\n",
       "      <td>3</td>\n",
       "      <td>2.702092</td>\n",
       "      <td>-2.957580e-02</td>\n",
       "    </tr>\n",
       "    <tr>\n",
       "      <th>11</th>\n",
       "      <td>4</td>\n",
       "      <td>2.703542</td>\n",
       "      <td>-3.611431e-03</td>\n",
       "    </tr>\n",
       "    <tr>\n",
       "      <th>12</th>\n",
       "      <td>5</td>\n",
       "      <td>2.703718</td>\n",
       "      <td>-4.405425e-04</td>\n",
       "    </tr>\n",
       "    <tr>\n",
       "      <th>13</th>\n",
       "      <td>6</td>\n",
       "      <td>2.703740</td>\n",
       "      <td>-5.373328e-05</td>\n",
       "    </tr>\n",
       "    <tr>\n",
       "      <th>14</th>\n",
       "      <td>7</td>\n",
       "      <td>2.703743</td>\n",
       "      <td>-6.553788e-06</td>\n",
       "    </tr>\n",
       "    <tr>\n",
       "      <th>15</th>\n",
       "      <td>8</td>\n",
       "      <td>2.703743</td>\n",
       "      <td>-7.993568e-07</td>\n",
       "    </tr>\n",
       "  </tbody>\n",
       "</table>\n",
       "</div>"
      ],
      "text/plain": [
       "    Iteration         x          f(x)\n",
       "0           1  2.596667 -1.828180e+00\n",
       "1           2  2.690263 -2.402395e-01\n",
       "2           3  2.702092 -2.957580e-02\n",
       "3           4  2.703542 -3.611431e-03\n",
       "4           5  2.703718 -4.405425e-04\n",
       "5           6  2.703740 -5.373328e-05\n",
       "6           7  2.703743 -6.553788e-06\n",
       "7           8  2.703743 -7.993568e-07\n",
       "8           1  2.596667 -1.828180e+00\n",
       "9           2  2.690263 -2.402395e-01\n",
       "10          3  2.702092 -2.957580e-02\n",
       "11          4  2.703542 -3.611431e-03\n",
       "12          5  2.703718 -4.405425e-04\n",
       "13          6  2.703740 -5.373328e-05\n",
       "14          7  2.703743 -6.553788e-06\n",
       "15          8  2.703743 -7.993568e-07"
      ]
     },
     "execution_count": 17,
     "metadata": {},
     "output_type": "execute_result"
    }
   ],
   "source": [
    "Tab.to_csv('Regula_output_table.csv')\n",
    "Tab"
   ]
  },
  {
   "cell_type": "code",
   "execution_count": null,
   "id": "2c8878d8-c6fe-4a95-ad27-baf1fe27e2f1",
   "metadata": {},
   "outputs": [],
   "source": []
  },
  {
   "cell_type": "code",
   "execution_count": null,
   "id": "6170103e-4d80-4133-bcb4-625411af8be9",
   "metadata": {},
   "outputs": [],
   "source": []
  },
  {
   "cell_type": "code",
   "execution_count": null,
   "id": "e9688824-6b2a-4e4d-89d4-5aaefd2404f1",
   "metadata": {},
   "outputs": [],
   "source": []
  },
  {
   "cell_type": "code",
   "execution_count": null,
   "id": "39a9afe7-cb5a-442c-8579-3aaa6f66e0c4",
   "metadata": {},
   "outputs": [],
   "source": []
  },
  {
   "cell_type": "code",
   "execution_count": null,
   "id": "8e240521-35be-4efe-88f7-e4e95ba81184",
   "metadata": {},
   "outputs": [],
   "source": []
  }
 ],
 "metadata": {
  "kernelspec": {
   "display_name": "Python 3 (ipykernel)",
   "language": "python",
   "name": "python3"
  },
  "language_info": {
   "codemirror_mode": {
    "name": "ipython",
    "version": 3
   },
   "file_extension": ".py",
   "mimetype": "text/x-python",
   "name": "python",
   "nbconvert_exporter": "python",
   "pygments_lexer": "ipython3",
   "version": "3.10.5"
  }
 },
 "nbformat": 4,
 "nbformat_minor": 5
}
