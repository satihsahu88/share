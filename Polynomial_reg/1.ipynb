{
 "cells": [
  {
   "cell_type": "code",
   "execution_count": 14,
   "id": "8caf1b06-55f5-4e42-84b4-acab0bc88740",
   "metadata": {},
   "outputs": [],
   "source": [
    "import numpy as np\n",
    "import matplotlib.pyplot as plt\n",
    "from sklearn.linear_model import LinearRegression\n",
    "from sklearn.preprocessing import PolynomialFeatures\n",
    "from scipy.interpolate import *"
   ]
  },
  {
   "cell_type": "code",
   "execution_count": 114,
   "id": "3f3aa703-1187-4ae4-b48a-393a1a7e8fb9",
   "metadata": {},
   "outputs": [
    {
     "data": {
      "text/plain": [
       "array([0, 1, 2, 3, 4, 5])"
      ]
     },
     "execution_count": 114,
     "metadata": {},
     "output_type": "execute_result"
    }
   ],
   "source": [
    "X = np.array([0,1,2,3,4,5])\n",
    "Y = np.array([0,0.8,0.9,0.2,-0.8,-1])\n",
    "X"
   ]
  },
  {
   "cell_type": "code",
   "execution_count": 81,
   "id": "99bdc11e-d694-44a3-94f3-c48f2877b173",
   "metadata": {},
   "outputs": [],
   "source": [
    "Poly = np.polyfit(X,Y,2)\n",
    "Y_poly = np.polyval(Poly, X)"
   ]
  },
  {
   "cell_type": "code",
   "execution_count": 82,
   "id": "3100323e-2fa6-44c5-8545-c0f0a8267a74",
   "metadata": {},
   "outputs": [
    {
     "data": {
      "image/png": "[encoded data removed]",
      "text/plain": [
       "<Figure size 432x288 with 1 Axes>"
      ]
     },
     "metadata": {
      "needs_background": "light"
     },
     "output_type": "display_data"
    }
   ],
   "source": [
    "plt.scatter(X,Y)\n",
    "plt.plot(X,Y_poly, color=\"r\")\n",
    "plt.show()"
   ]
  },
  {
   "cell_type": "code",
   "execution_count": 92,
   "id": "bf4895ed-91fc-40a8-90e0-b7a8f83685f2",
   "metadata": {},
   "outputs": [],
   "source": [
    "Y_resd = Y-Y_poly"
   ]
  },
  {
   "cell_type": "code",
   "execution_count": 96,
   "id": "7eaaaef6-d3bb-4a46-9c15-55ffb3600eba",
   "metadata": {},
   "outputs": [],
   "source": [
    "SSE = np.sum(pow(Y_resd,2))"
   ]
  },
  {
   "cell_type": "code",
   "execution_count": 109,
   "id": "070881c4-8f5e-45b0-8d0b-584372fae5c1",
   "metadata": {},
   "outputs": [],
   "source": [
    "SST = len(Y)*np.var(Y)"
   ]
  },
  {
   "cell_type": "code",
   "execution_count": 111,
   "id": "dc3b2ece-bfc0-4ad7-a869-27692e46b928",
   "metadata": {},
   "outputs": [],
   "source": [
    "R2 = 1-SSE/SST"
   ]
  },
  {
   "cell_type": "code",
   "execution_count": 112,
   "id": "29d52f50-3023-44bd-aa07-6a4d19aea581",
   "metadata": {},
   "outputs": [
    {
     "data": {
      "text/plain": [
       "0.839713829058528"
      ]
     },
     "execution_count": 112,
     "metadata": {},
     "output_type": "execute_result"
    }
   ],
   "source": [
    "R2"
   ]
  },
  {
   "cell_type": "code",
   "execution_count": null,
   "id": "fe410c06-c503-4e3f-bedc-ab6f14d4885f",
   "metadata": {},
   "outputs": [],
   "source": []
  }
 ],
 "metadata": {
  "kernelspec": {
   "display_name": "Python 3 (ipykernel)",
   "language": "python",
   "name": "python3"
  },
  "language_info": {
   "codemirror_mode": {
    "name": "ipython",
    "version": 3
   },
   "file_extension": ".py",
   "mimetype": "text/x-python",
   "name": "python",
   "nbconvert_exporter": "python",
   "pygments_lexer": "ipython3",
   "version": "3.10.5"
  }
 },
 "nbformat": 4,
 "nbformat_minor": 5
}
