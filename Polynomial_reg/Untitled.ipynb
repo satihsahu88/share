{
 "cells": [
  {
   "cell_type": "code",
   "execution_count": 1,
   "id": "448d523f-c7a1-4b88-a9a0-7c181ae57d77",
   "metadata": {},
   "outputs": [
    {
     "name": "stderr",
     "output_type": "stream",
     "text": [
      "ERROR: unknown command \"scipy\"\n",
      "\n"
     ]
    }
   ],
   "source": [
    "! pip scipy"
   ]
  },
  {
   "cell_type": "code",
   "execution_count": null,
   "id": "8022d42e-69b9-4c6d-8504-ed411ca8a457",
   "metadata": {},
   "outputs": [],
   "source": []
  }
 ],
 "metadata": {
  "kernelspec": {
   "display_name": "Python 3 (ipykernel)",
   "language": "python",
   "name": "python3"
  },
  "language_info": {
   "codemirror_mode": {
    "name": "ipython",
    "version": 3
   },
   "file_extension": ".py",
   "mimetype": "text/x-python",
   "name": "python",
   "nbconvert_exporter": "python",
   "pygments_lexer": "ipython3",
   "version": "3.10.5"
  }
 },
 "nbformat": 4,
 "nbformat_minor": 5
}
