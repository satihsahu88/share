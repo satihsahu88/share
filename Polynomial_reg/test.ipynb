{
 "cells": [
  {
   "cell_type": "code",
   "execution_count": 1,
   "id": "8caf1b06-55f5-4e42-84b4-acab0bc88740",
   "metadata": {},
   "outputs": [],
   "source": [
    "import pandas as pd\n",
    "import numpy as np\n",
    "import matplotlib.pyplot as plt\n",
    "from sklearn.linear_model import LinearRegression\n",
    "from sklearn.preprocessing import PolynomialFeatures\n",
    "from scipy.interpolate import *"
   ]
  },
  {
   "cell_type": "code",
   "execution_count": 2,
   "id": "b9bfac15-f448-443f-b997-1011261fa979",
   "metadata": {},
   "outputs": [],
   "source": [
    "df = pd.read_csv(\"data_1.csv\", header=None)\n",
    "#df = df.iloc[1:]"
   ]
  },
  {
   "cell_type": "code",
   "execution_count": 3,
   "id": "3f3aa703-1187-4ae4-b48a-393a1a7e8fb9",
   "metadata": {},
   "outputs": [],
   "source": [
    "X = (df[0])\n",
    "Y = (df[1])"
   ]
  },
  {
   "cell_type": "code",
   "execution_count": 11,
   "id": "99bdc11e-d694-44a3-94f3-c48f2877b173",
   "metadata": {},
   "outputs": [],
   "source": [
    "Poly = np.polyfit(X,Y,2)\n",
    "Y_poly = np.polyval(Poly, X)"
   ]
  },
  {
   "cell_type": "code",
   "execution_count": 12,
   "id": "3100323e-2fa6-44c5-8545-c0f0a8267a74",
   "metadata": {},
   "outputs": [
    {
     "data": {
      "image/png": "[encoded data removed]",
      "text/plain": [
       "<Figure size 432x288 with 1 Axes>"
      ]
     },
     "metadata": {
      "needs_background": "light"
     },
     "output_type": "display_data"
    }
   ],
   "source": [
    "plt.scatter(X,Y)\n",
    "X_val = np.linspace(25,80,100).reshape(-1,1)\n",
    "Y_val = np.polyval(Poly, X_val)\n",
    "plt.plot(X_val,Y_val, color=\"r\")\n",
    "plt.show()"
   ]
  },
  {
   "cell_type": "code",
   "execution_count": 13,
   "id": "bf4895ed-91fc-40a8-90e0-b7a8f83685f2",
   "metadata": {},
   "outputs": [],
   "source": [
    "Y_resd = Y-Y_poly"
   ]
  },
  {
   "cell_type": "code",
   "execution_count": 14,
   "id": "7eaaaef6-d3bb-4a46-9c15-55ffb3600eba",
   "metadata": {},
   "outputs": [],
   "source": [
    "SSE = np.sum(pow(Y_resd,2))"
   ]
  },
  {
   "cell_type": "code",
   "execution_count": 15,
   "id": "070881c4-8f5e-45b0-8d0b-584372fae5c1",
   "metadata": {},
   "outputs": [],
   "source": [
    "SST = len(Y)*np.var(Y)"
   ]
  },
  {
   "cell_type": "code",
   "execution_count": 16,
   "id": "dc3b2ece-bfc0-4ad7-a869-27692e46b928",
   "metadata": {},
   "outputs": [],
   "source": [
    "R2 = 1-SSE/SST"
   ]
  },
  {
   "cell_type": "code",
   "execution_count": 17,
   "id": "29d52f50-3023-44bd-aa07-6a4d19aea581",
   "metadata": {},
   "outputs": [
    {
     "data": {
      "text/plain": [
       "0.734828158037549"
      ]
     },
     "execution_count": 17,
     "metadata": {},
     "output_type": "execute_result"
    }
   ],
   "source": [
    "R2"
   ]
  },
  {
   "cell_type": "code",
   "execution_count": null,
   "id": "fe410c06-c503-4e3f-bedc-ab6f14d4885f",
   "metadata": {},
   "outputs": [],
   "source": []
  }
 ],
 "metadata": {
  "kernelspec": {
   "display_name": "Python 3 (ipykernel)",
   "language": "python",
   "name": "python3"
  },
  "language_info": {
   "codemirror_mode": {
    "name": "ipython",
    "version": 3
   },
   "file_extension": ".py",
   "mimetype": "text/x-python",
   "name": "python",
   "nbconvert_exporter": "python",
   "pygments_lexer": "ipython3",
   "version": "3.10.5"
  }
 },
 "nbformat": 4,
 "nbformat_minor": 5
}
