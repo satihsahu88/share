{
 "cells": [
  {
   "cell_type": "code",
   "execution_count": 1,
   "id": "23139416-4f43-4490-99df-a8b2b4cd1e1b",
   "metadata": {},
   "outputs": [],
   "source": [
    "import matplotlib.pyplot as plt"
   ]
  },
  {
   "cell_type": "code",
   "execution_count": 2,
   "id": "395c0585-75c0-40d6-ad85-6a195a70beb7",
   "metadata": {},
   "outputs": [
    {
     "name": "stdout",
     "output_type": "stream",
     "text": [
      "Enter the value of X1 : \n"
     ]
    },
    {
     "name": "stdin",
     "output_type": "stream",
     "text": [
      " 2\n"
     ]
    },
    {
     "name": "stdout",
     "output_type": "stream",
     "text": [
      "Enter the value of Y1 : \n"
     ]
    },
    {
     "name": "stdin",
     "output_type": "stream",
     "text": [
      " 3\n"
     ]
    },
    {
     "name": "stdout",
     "output_type": "stream",
     "text": [
      "Enter the value of X2 : \n"
     ]
    },
    {
     "name": "stdin",
     "output_type": "stream",
     "text": [
      " 25\n"
     ]
    },
    {
     "name": "stdout",
     "output_type": "stream",
     "text": [
      "Enter the value of Y2 : \n"
     ]
    },
    {
     "name": "stdin",
     "output_type": "stream",
     "text": [
      " 30\n"
     ]
    }
   ],
   "source": [
    "print(\"Enter the value of X1 : \")\n",
    "X1 =int(input())\n",
    "print(\"Enter the value of Y1 : \")\n",
    "Y1 =int(input())\n",
    "print(\"Enter the value of X2 : \")\n",
    "X2 =int(input())\n",
    "print(\"Enter the value of Y2 : \")\n",
    "Y2 =int(input())"
   ]
  },
  {
   "cell_type": "code",
   "execution_count": 3,
   "id": "b13c671b-35d7-4103-86c7-12ecac352e73",
   "metadata": {},
   "outputs": [],
   "source": [
    "dx = X2-X1\n",
    "dy = Y2-Y1"
   ]
  },
  {
   "cell_type": "code",
   "execution_count": 4,
   "id": "15572d78-6f08-4aa5-a120-8917735cbb91",
   "metadata": {},
   "outputs": [],
   "source": [
    "if abs(dx) > abs(dy):\n",
    "    steps = abs(dx)\n",
    "else:\n",
    "    steps = abs(dy)"
   ]
  },
  {
   "cell_type": "code",
   "execution_count": 5,
   "id": "291c480d-a1a8-41d9-b131-eb136efdbf3c",
   "metadata": {},
   "outputs": [],
   "source": [
    "Xinc = dx/steps\n",
    "Yinc = dy/steps"
   ]
  },
  {
   "cell_type": "code",
   "execution_count": 6,
   "id": "1c15e489-2678-49a0-8766-006c769c1636",
   "metadata": {},
   "outputs": [
    {
     "name": "stdout",
     "output_type": "stream",
     "text": [
      "X1:  2.851851851851852 Y1:  3.851851851851852\n",
      "X1:  3.703703703703704 Y1:  4.703703703703704\n",
      "X1:  4.555555555555556 Y1:  5.555555555555556\n",
      "X1:  5.407407407407408 Y1:  6.407407407407408\n",
      "X1:  6.25925925925926 Y1:  7.25925925925926\n",
      "X1:  7.1111111111111125 Y1:  8.111111111111112\n",
      "X1:  7.962962962962965 Y1:  8.962962962962964\n",
      "X1:  8.814814814814817 Y1:  9.814814814814815\n",
      "X1:  9.666666666666668 Y1:  10.666666666666666\n",
      "X1:  10.518518518518519 Y1:  11.518518518518517\n",
      "X1:  11.37037037037037 Y1:  12.370370370370368\n",
      "X1:  12.222222222222221 Y1:  13.22222222222222\n",
      "X1:  13.074074074074073 Y1:  14.07407407407407\n",
      "X1:  13.925925925925924 Y1:  14.925925925925922\n",
      "X1:  14.777777777777775 Y1:  15.777777777777773\n",
      "X1:  15.629629629629626 Y1:  16.629629629629626\n",
      "X1:  16.481481481481477 Y1:  17.481481481481477\n",
      "X1:  17.33333333333333 Y1:  18.33333333333333\n",
      "X1:  18.18518518518518 Y1:  19.18518518518518\n",
      "X1:  19.03703703703703 Y1:  20.03703703703703\n",
      "X1:  19.888888888888882 Y1:  20.888888888888882\n",
      "X1:  20.740740740740733 Y1:  21.740740740740733\n",
      "X1:  21.592592592592585 Y1:  22.592592592592585\n",
      "X1:  22.444444444444436 Y1:  23.444444444444436\n",
      "X1:  23.296296296296287 Y1:  24.296296296296287\n",
      "X1:  24.148148148148138 Y1:  25.148148148148138\n",
      "X1:  24.99999999999999 Y1:  25.99999999999999\n"
     ]
    }
   ],
   "source": [
    "i = 0\n",
    "Xcoor = []\n",
    "Ycoor = []\n",
    "\n",
    "while i < steps:\n",
    "    i += 1\n",
    "    X1 = X1+Xinc\n",
    "    Y1 = Y1+Xinc\n",
    "    print(\"X1: \" , X1, \"Y1: \", Y1)\n",
    "    Xcoor.append(X1)\n",
    "    Ycoor.append(Y1)\n"
   ]
  },
  {
   "cell_type": "code",
   "execution_count": 7,
   "id": "8fe06bd5-71be-49b1-893a-7f33ce99237e",
   "metadata": {},
   "outputs": [
    {
     "data": {
      "image/png": "[encoded data removed]",
      "text/plain": [
       "<Figure size 432x288 with 1 Axes>"
      ]
     },
     "metadata": {
      "needs_background": "light"
     },
     "output_type": "display_data"
    }
   ],
   "source": [
    "plt.plot(Xcoor, Ycoor)\n",
    "plt.xlabel(\"X axis\")\n",
    "plt.ylabel(\"Y axis\")           \n",
    "plt.title(\"DDA_Algo_Line\") \n",
    "plt.show()"
   ]
  },
  {
   "cell_type": "code",
   "execution_count": null,
   "id": "e2d3821f-ffea-4031-82e6-688af04fdf03",
   "metadata": {},
   "outputs": [],
   "source": []
  }
 ],
 "metadata": {
  "kernelspec": {
   "display_name": "Python 3 (ipykernel)",
   "language": "python",
   "name": "python3"
  },
  "language_info": {
   "codemirror_mode": {
    "name": "ipython",
    "version": 3
   },
   "file_extension": ".py",
   "mimetype": "text/x-python",
   "name": "python",
   "nbconvert_exporter": "python",
   "pygments_lexer": "ipython3",
   "version": "3.10.5"
  }
 },
 "nbformat": 4,
 "nbformat_minor": 5
}
