{
 "cells": [
  {
   "cell_type": "code",
   "execution_count": 34,
   "id": "23139416-4f43-4490-99df-a8b2b4cd1e1b",
   "metadata": {},
   "outputs": [],
   "source": [
    "import matplotlib.pyplot as plt"
   ]
  },
  {
   "cell_type": "code",
   "execution_count": 37,
   "id": "9777d1ee-ed9e-4838-b802-914e32be29ad",
   "metadata": {},
   "outputs": [
    {
     "name": "stdout",
     "output_type": "stream",
     "text": [
      "Starting Points\n"
     ]
    },
    {
     "name": "stdin",
     "output_type": "stream",
     "text": [
      " 10 15\n"
     ]
    },
    {
     "name": "stdout",
     "output_type": "stream",
     "text": [
      "Ending Points\n"
     ]
    },
    {
     "name": "stdin",
     "output_type": "stream",
     "text": [
      " 110 80\n"
     ]
    },
    {
     "name": "stdout",
     "output_type": "stream",
     "text": [
      " i   |   Pk   |   Pk+1   |   Xk+1   |   Yk+1   |   Plot   \n",
      "     |        |          |    10    |    15    |   (10,15)   \n",
      "  1  |    30    |    -40    |    11    |    16    |   (11,16)   \n",
      "  1  |    -40    |    90    |    12    |    16    |   (12,16)   \n",
      "  1  |    90    |    20    |    13    |    17    |   (13,17)   \n",
      "  1  |    20    |    -50    |    14    |    18    |   (14,18)   \n",
      "  1  |    -50    |    80    |    15    |    18    |   (15,18)   \n",
      "  1  |    80    |    10    |    16    |    19    |   (16,19)   \n",
      "  1  |    10    |    -60    |    17    |    20    |   (17,20)   \n",
      "  1  |    -60    |    70    |    18    |    20    |   (18,20)   \n",
      "  1  |    70    |    0    |    19    |    21    |   (19,21)   \n",
      "  1  |    0    |    -70    |    20    |    22    |   (20,22)   \n",
      "  1  |    -70    |    60    |    21    |    22    |   (21,22)   \n",
      "  1  |    60    |    -10    |    22    |    23    |   (22,23)   \n",
      "  1  |    -10    |    120    |    23    |    23    |   (23,23)   \n",
      "  1  |    120    |    50    |    24    |    24    |   (24,24)   \n",
      "  1  |    50    |    -20    |    25    |    25    |   (25,25)   \n",
      "  1  |    -20    |    110    |    26    |    25    |   (26,25)   \n",
      "  1  |    110    |    40    |    27    |    26    |   (27,26)   \n",
      "  1  |    40    |    -30    |    28    |    27    |   (28,27)   \n",
      "  1  |    -30    |    100    |    29    |    27    |   (29,27)   \n",
      "  1  |    100    |    30    |    30    |    28    |   (30,28)   \n",
      "  1  |    30    |    -40    |    31    |    29    |   (31,29)   \n",
      "  1  |    -40    |    90    |    32    |    29    |   (32,29)   \n",
      "  1  |    90    |    20    |    33    |    30    |   (33,30)   \n",
      "  1  |    20    |    -50    |    34    |    31    |   (34,31)   \n",
      "  1  |    -50    |    80    |    35    |    31    |   (35,31)   \n",
      "  1  |    80    |    10    |    36    |    32    |   (36,32)   \n",
      "  1  |    10    |    -60    |    37    |    33    |   (37,33)   \n",
      "  1  |    -60    |    70    |    38    |    33    |   (38,33)   \n",
      "  1  |    70    |    0    |    39    |    34    |   (39,34)   \n",
      "  1  |    0    |    -70    |    40    |    35    |   (40,35)   \n",
      "  1  |    -70    |    60    |    41    |    35    |   (41,35)   \n",
      "  1  |    60    |    -10    |    42    |    36    |   (42,36)   \n",
      "  1  |    -10    |    120    |    43    |    36    |   (43,36)   \n",
      "  1  |    120    |    50    |    44    |    37    |   (44,37)   \n",
      "  1  |    50    |    -20    |    45    |    38    |   (45,38)   \n",
      "  1  |    -20    |    110    |    46    |    38    |   (46,38)   \n",
      "  1  |    110    |    40    |    47    |    39    |   (47,39)   \n",
      "  1  |    40    |    -30    |    48    |    40    |   (48,40)   \n",
      "  1  |    -30    |    100    |    49    |    40    |   (49,40)   \n",
      "  1  |    100    |    30    |    50    |    41    |   (50,41)   \n",
      "  1  |    30    |    -40    |    51    |    42    |   (51,42)   \n",
      "  1  |    -40    |    90    |    52    |    42    |   (52,42)   \n",
      "  1  |    90    |    20    |    53    |    43    |   (53,43)   \n",
      "  1  |    20    |    -50    |    54    |    44    |   (54,44)   \n",
      "  1  |    -50    |    80    |    55    |    44    |   (55,44)   \n",
      "  1  |    80    |    10    |    56    |    45    |   (56,45)   \n",
      "  1  |    10    |    -60    |    57    |    46    |   (57,46)   \n",
      "  1  |    -60    |    70    |    58    |    46    |   (58,46)   \n",
      "  1  |    70    |    0    |    59    |    47    |   (59,47)   \n",
      "  1  |    0    |    -70    |    60    |    48    |   (60,48)   \n",
      "  1  |    -70    |    60    |    61    |    48    |   (61,48)   \n",
      "  1  |    60    |    -10    |    62    |    49    |   (62,49)   \n",
      "  1  |    -10    |    120    |    63    |    49    |   (63,49)   \n",
      "  1  |    120    |    50    |    64    |    50    |   (64,50)   \n",
      "  1  |    50    |    -20    |    65    |    51    |   (65,51)   \n",
      "  1  |    -20    |    110    |    66    |    51    |   (66,51)   \n",
      "  1  |    110    |    40    |    67    |    52    |   (67,52)   \n",
      "  1  |    40    |    -30    |    68    |    53    |   (68,53)   \n",
      "  1  |    -30    |    100    |    69    |    53    |   (69,53)   \n",
      "  1  |    100    |    30    |    70    |    54    |   (70,54)   \n",
      "  1  |    30    |    -40    |    71    |    55    |   (71,55)   \n",
      "  1  |    -40    |    90    |    72    |    55    |   (72,55)   \n",
      "  1  |    90    |    20    |    73    |    56    |   (73,56)   \n",
      "  1  |    20    |    -50    |    74    |    57    |   (74,57)   \n",
      "  1  |    -50    |    80    |    75    |    57    |   (75,57)   \n",
      "  1  |    80    |    10    |    76    |    58    |   (76,58)   \n",
      "  1  |    10    |    -60    |    77    |    59    |   (77,59)   \n",
      "  1  |    -60    |    70    |    78    |    59    |   (78,59)   \n",
      "  1  |    70    |    0    |    79    |    60    |   (79,60)   \n",
      "  1  |    0    |    -70    |    80    |    61    |   (80,61)   \n",
      "  1  |    -70    |    60    |    81    |    61    |   (81,61)   \n",
      "  1  |    60    |    -10    |    82    |    62    |   (82,62)   \n",
      "  1  |    -10    |    120    |    83    |    62    |   (83,62)   \n",
      "  1  |    120    |    50    |    84    |    63    |   (84,63)   \n",
      "  1  |    50    |    -20    |    85    |    64    |   (85,64)   \n",
      "  1  |    -20    |    110    |    86    |    64    |   (86,64)   \n",
      "  1  |    110    |    40    |    87    |    65    |   (87,65)   \n",
      "  1  |    40    |    -30    |    88    |    66    |   (88,66)   \n",
      "  1  |    -30    |    100    |    89    |    66    |   (89,66)   \n",
      "  1  |    100    |    30    |    90    |    67    |   (90,67)   \n",
      "  1  |    30    |    -40    |    91    |    68    |   (91,68)   \n",
      "  1  |    -40    |    90    |    92    |    68    |   (92,68)   \n",
      "  1  |    90    |    20    |    93    |    69    |   (93,69)   \n",
      "  1  |    20    |    -50    |    94    |    70    |   (94,70)   \n",
      "  1  |    -50    |    80    |    95    |    70    |   (95,70)   \n",
      "  1  |    80    |    10    |    96    |    71    |   (96,71)   \n",
      "  1  |    10    |    -60    |    97    |    72    |   (97,72)   \n",
      "  1  |    -60    |    70    |    98    |    72    |   (98,72)   \n",
      "  1  |    70    |    0    |    99    |    73    |   (99,73)   \n",
      "  1  |    0    |    -70    |    100    |    74    |   (100,74)   \n",
      "  1  |    -70    |    60    |    101    |    74    |   (101,74)   \n",
      "  1  |    60    |    -10    |    102    |    75    |   (102,75)   \n",
      "  1  |    -10    |    120    |    103    |    75    |   (103,75)   \n",
      "  1  |    120    |    50    |    104    |    76    |   (104,76)   \n",
      "  1  |    50    |    -20    |    105    |    77    |   (105,77)   \n",
      "  1  |    -20    |    110    |    106    |    77    |   (106,77)   \n",
      "  1  |    110    |    40    |    107    |    78    |   (107,78)   \n",
      "  1  |    40    |    -30    |    108    |    79    |   (108,79)   \n",
      "  1  |    -30    |    100    |    109    |    79    |   (109,79)   \n",
      "  1  |    100    |    30    |    110    |    80    |   (110,80)   \n"
     ]
    }
   ],
   "source": [
    "print(\"Starting Points\")\n",
    "X1, Y1 = map(int, input().split())\n",
    "print(\"Ending Points\")\n",
    "X2, Y2 = map(int, input().split())\n",
    "\n",
    "X_coor = [X1]\n",
    "Y_coor = [Y1]\n",
    "\n",
    "dx = X2-X1\n",
    "dy = Y2-Y1\n",
    "Pk = 2*dy-dx\n",
    "print(\" i   |   Pk   |   Pk+1   |   Xk+1   |   Yk+1   |   Plot   \")\n",
    "print(\"     |        |          |    %d    |    %d    |   (%d,%d)   \"   % (X1, Y1, X1, Y1))\n",
    "\n",
    "for i in range(dx):\n",
    "    if Pk < 0:\n",
    "        Pkn = Pk +(2*dy)\n",
    "        X1 += 1\n",
    "        print(\"  %d  |    %d    |    %d    |    %d    |    %d    |   (%d,%d)   \"  % (1, Pk, Pkn, X1, Y1, X1, Y1))\n",
    "        Pk = Pkn\n",
    "    else:\n",
    "        Pkn = Pk + (2*dy - 2*dx)\n",
    "        X1 += 1\n",
    "        Y1 += 1\n",
    "        print(\"  %d  |    %d    |    %d    |    %d    |    %d    |   (%d,%d)   \"  % (1, Pk, Pkn, X1, Y1, X1, Y1))\n",
    "        Pk = Pkn\n",
    "    X_coor.append(X1)\n",
    "    Y_coor.append(Y1)\n",
    "\n",
    "    X = (X_coor[0], X_coor[-1])\n",
    "    Y = (Y_coor[0], Y_coor[-1])\n"
   ]
  },
  {
   "cell_type": "code",
   "execution_count": 38,
   "id": "8fe06bd5-71be-49b1-893a-7f33ce99237e",
   "metadata": {},
   "outputs": [
    {
     "data": {
      "image/png": "[encoded data removed]",
      "text/plain": [
       "<Figure size 432x288 with 1 Axes>"
      ]
     },
     "metadata": {
      "needs_background": "light"
     },
     "output_type": "display_data"
    }
   ],
   "source": [
    "plt.plot(X, Y)\n",
    "plt.xlabel(\"X axis\")\n",
    "plt.ylabel(\"Y axis\")           \n",
    "plt.title(\"Line_Bresenham_Algo\") \n",
    "plt.show()"
   ]
  },
  {
   "cell_type": "code",
   "execution_count": null,
   "id": "e2d3821f-ffea-4031-82e6-688af04fdf03",
   "metadata": {},
   "outputs": [],
   "source": []
  }
 ],
 "metadata": {
  "kernelspec": {
   "display_name": "Python 3 (ipykernel)",
   "language": "python",
   "name": "python3"
  },
  "language_info": {
   "codemirror_mode": {
    "name": "ipython",
    "version": 3
   },
   "file_extension": ".py",
   "mimetype": "text/x-python",
   "name": "python",
   "nbconvert_exporter": "python",
   "pygments_lexer": "ipython3",
   "version": "3.10.5"
  }
 },
 "nbformat": 4,
 "nbformat_minor": 5
}
