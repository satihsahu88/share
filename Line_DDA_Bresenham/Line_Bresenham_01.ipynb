{
 "cells": [
  {
   "cell_type": "code",
   "execution_count": 3,
   "id": "23139416-4f43-4490-99df-a8b2b4cd1e1b",
   "metadata": {},
   "outputs": [],
   "source": [
    "import matplotlib.pyplot as plt"
   ]
  },
  {
   "cell_type": "code",
   "execution_count": 4,
   "id": "9777d1ee-ed9e-4838-b802-914e32be29ad",
   "metadata": {},
   "outputs": [
    {
     "name": "stdout",
     "output_type": "stream",
     "text": [
      "Starting Points\n"
     ]
    },
    {
     "name": "stdin",
     "output_type": "stream",
     "text": [
      " 10 15\n"
     ]
    },
    {
     "name": "stdout",
     "output_type": "stream",
     "text": [
      "Ending Points\n"
     ]
    },
    {
     "name": "stdin",
     "output_type": "stream",
     "text": [
      " 110 180\n"
     ]
    }
   ],
   "source": [
    "print(\"Starting Points\")\n",
    "X1, Y1 = map(int, input().split())\n",
    "print(\"Ending Points\")\n",
    "X2, Y2 = map(int, input().split())\n",
    "\n",
    "X_coor = [X1]\n",
    "Y_coor = [Y1]\n",
    "\n",
    "dx = X2-X1\n",
    "dy = Y2-Y1\n",
    "Pk = 2*dy-dx\n",
    "\n",
    "for i in range(dx):\n",
    "    if Pk < 0:\n",
    "        Pkn = Pk +(2*dy)\n",
    "        X1 += 1\n",
    "        Pk = Pkn\n",
    "    else:\n",
    "        Pkn = Pk + (2*dy - 2*dx)\n",
    "        X1 += 1\n",
    "        Y1 += 1\n",
    "        Pk = Pkn\n",
    "    X_coor.append(X1)\n",
    "    Y_coor.append(Y1)\n",
    "\n",
    "    X = (X_coor[0], X_coor[-1])\n",
    "    Y = (Y_coor[0], Y_coor[-1])\n"
   ]
  },
  {
   "cell_type": "code",
   "execution_count": 5,
   "id": "8fe06bd5-71be-49b1-893a-7f33ce99237e",
   "metadata": {},
   "outputs": [
    {
     "data": {
      "image/png": "[encoded data removed]",
      "text/plain": [
       "<Figure size 432x288 with 1 Axes>"
      ]
     },
     "metadata": {
      "needs_background": "light"
     },
     "output_type": "display_data"
    }
   ],
   "source": [
    "plt.plot(X, Y)\n",
    "plt.xlabel(\"X axis\")\n",
    "plt.ylabel(\"Y axis\")           \n",
    "plt.title(\"Line_Bresenham_Algo\") \n",
    "plt.show()"
   ]
  },
  {
   "cell_type": "code",
   "execution_count": null,
   "id": "e2d3821f-ffea-4031-82e6-688af04fdf03",
   "metadata": {},
   "outputs": [],
   "source": []
  }
 ],
 "metadata": {
  "kernelspec": {
   "display_name": "Python 3 (ipykernel)",
   "language": "python",
   "name": "python3"
  },
  "language_info": {
   "codemirror_mode": {
    "name": "ipython",
    "version": 3
   },
   "file_extension": ".py",
   "mimetype": "text/x-python",
   "name": "python",
   "nbconvert_exporter": "python",
   "pygments_lexer": "ipython3",
   "version": "3.10.5"
  }
 },
 "nbformat": 4,
 "nbformat_minor": 5
}
